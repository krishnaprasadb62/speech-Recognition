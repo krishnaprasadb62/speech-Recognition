{
 "cells": [
  {
   "cell_type": "code",
   "execution_count": 1,
   "metadata": {},
   "outputs": [],
   "source": [
    "#SpeechRecognition\n",
    "#pyaudio"
   ]
  },
  {
   "cell_type": "code",
   "execution_count": 5,
   "metadata": {},
   "outputs": [
    {
     "name": "stdout",
     "output_type": "stream",
     "text": [
      "speak.......\n",
      "you said: how are you\n"
     ]
    }
   ],
   "source": [
    "import speech_recognition as sr\n",
    "\n",
    "def speech_recog():\n",
    "    r=sr.Recognizer()\n",
    "    mic=sr.Microphone()\n",
    "    with mic as source:\n",
    "        print('speak.......')\n",
    "        r.energy_threshold=700\n",
    "        r.adjust_for_ambient_noise(source,duration=1)\n",
    "        audio=r.listen(source)\n",
    "\n",
    "        try:\n",
    "            text=r.recognize_google(audio)\n",
    "            print('you said:',text)\n",
    "\n",
    "        except:\n",
    "            print(\"didn't here anything.pls speak again....\")\n",
    "\n",
    "speech_recog()\n"
   ]
  },
  {
   "cell_type": "code",
   "execution_count": 10,
   "metadata": {},
   "outputs": [
    {
     "name": "stdout",
     "output_type": "stream",
     "text": [
      "speak......\n",
      "Haryana\n"
     ]
    }
   ],
   "source": [
    "import pyttsx3\n",
    "import speech_recognition as sr\n",
    "def a():\n",
    "    b=sr.Recognizer()\n",
    "    m=sr.Microphone()\n",
    "    with m as source:\n",
    "        print('speak......')\n",
    "        b.energy_threshold=500\n",
    "        b.adjust_for_ambient_noise(source,duration=1)\n",
    "        audio=b.listen(source)\n",
    "\n",
    "\n",
    "        try:\n",
    "            text=b.recognize_google(audio)\n",
    "            print(text)\n",
    "            c=pyttsx3.init()\n",
    "            c.say(text)\n",
    "            c.runAndWait()\n",
    "            \n",
    "\n",
    "        except:\n",
    "            print('you speak again')\n",
    "a()"
   ]
  }
 ],
 "metadata": {
  "kernelspec": {
   "display_name": "Python 3",
   "language": "python",
   "name": "python3"
  },
  "language_info": {
   "codemirror_mode": {
    "name": "ipython",
    "version": 3
   },
   "file_extension": ".py",
   "mimetype": "text/x-python",
   "name": "python",
   "nbconvert_exporter": "python",
   "pygments_lexer": "ipython3",
   "version": "3.11.5"
  }
 },
 "nbformat": 4,
 "nbformat_minor": 2
}
